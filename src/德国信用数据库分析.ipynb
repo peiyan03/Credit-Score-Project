{
 "cells": [
  {
   "cell_type": "markdown",
   "source": [
    "## 数据分析"
   ],
   "metadata": {
    "collapsed": false
   },
   "id": "7695d3feff123c11"
  },
  {
   "cell_type": "code",
   "outputs": [],
   "source": [
    "import pandas as pd\n",
    "# 读取数据\n",
    "data = pd.read_excel('German_credit.xlsx')"
   ],
   "metadata": {
    "collapsed": false,
    "ExecuteTime": {
     "end_time": "2024-07-17T09:05:50.761052Z",
     "start_time": "2024-07-17T09:05:50.542436900Z"
    }
   },
   "id": "e9b8b730a882b928",
   "execution_count": 9
  },
  {
   "cell_type": "code",
   "outputs": [],
   "source": [],
   "metadata": {
    "collapsed": false,
    "ExecuteTime": {
     "end_time": "2024-07-17T09:00:11.366369300Z",
     "start_time": "2024-07-17T09:00:11.350746Z"
    }
   },
   "id": "38368c4f826547a5",
   "execution_count": 2
  },
  {
   "cell_type": "code",
   "outputs": [],
   "source": [],
   "metadata": {
    "collapsed": false
   },
   "id": "69c48d77fc7af319"
  }
 ],
 "metadata": {
  "kernelspec": {
   "display_name": "Python 3",
   "language": "python",
   "name": "python3"
  },
  "language_info": {
   "codemirror_mode": {
    "name": "ipython",
    "version": 2
   },
   "file_extension": ".py",
   "mimetype": "text/x-python",
   "name": "python",
   "nbconvert_exporter": "python",
   "pygments_lexer": "ipython2",
   "version": "2.7.6"
  }
 },
 "nbformat": 4,
 "nbformat_minor": 5
}
